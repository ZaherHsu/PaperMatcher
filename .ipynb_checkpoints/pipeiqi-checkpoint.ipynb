{
 "cells": [
  {
   "cell_type": "code",
   "execution_count": 221,
   "id": "2b893fd0",
   "metadata": {},
   "outputs": [],
   "source": [
    "import os\n",
    "from utils import *\n",
    "import pandas as pd\n",
    "import difflib"
   ]
  },
  {
   "cell_type": "code",
   "execution_count": 251,
   "id": "b0111c3d",
   "metadata": {},
   "outputs": [],
   "source": [
    "cont14 = useInfo('./t1-t4.txt')\n",
    "cont5 = useInfo('./t5.txt')\n",
    "cont6 = useInfo('./t6.txt')\n",
    "cont7 = useInfo('./t7.txt')\n",
    "cont8 = useInfo('./t8.txt')\n",
    "cont9 = useInfo('./t9.txt')\n",
    "cont10 = useInfo('./t10.txt')"
   ]
  },
  {
   "cell_type": "code",
   "execution_count": 252,
   "id": "3dfd2fba",
   "metadata": {},
   "outputs": [],
   "source": [
    "allcontent = cont8 + cont9 + cont10 + cont14 + cont5 + cont6 + cont7"
   ]
  },
  {
   "cell_type": "code",
   "execution_count": 257,
   "id": "a6f6b17f",
   "metadata": {},
   "outputs": [
    {
     "data": {
      "text/plain": [
       "963"
      ]
     },
     "execution_count": 257,
     "metadata": {},
     "output_type": "execute_result"
    }
   ],
   "source": [
    "len(allcontent)"
   ]
  },
  {
   "cell_type": "code",
   "execution_count": 169,
   "id": "24d5c290",
   "metadata": {},
   "outputs": [
    {
     "name": "stdout",
     "output_type": "stream",
     "text": [
      "Index(['题目内容', '答案选项', '正确选项', '对象', '业务模块', '类别', '产品及知识点', '难度', '认知程度',\n",
      "       '考试对象1', '考试对象2', '考试对象3', '考试对象4', '案例', '出题依据'],\n",
      "      dtype='object')\n"
     ]
    }
   ],
   "source": [
    "anwser = readCsv('./附件2.新入职员工通关考试应知应会试题库2021版.xlsx')"
   ]
  },
  {
   "cell_type": "code",
   "execution_count": 258,
   "id": "ca4c71aa",
   "metadata": {},
   "outputs": [],
   "source": [
    "newL = []\n",
    "newL = pipei(newL, anwser, allcontent)\n",
    "newL = list(set(newL))"
   ]
  },
  {
   "cell_type": "code",
   "execution_count": 259,
   "id": "e4048e24",
   "metadata": {},
   "outputs": [
    {
     "data": {
      "text/plain": [
       "768"
      ]
     },
     "execution_count": 259,
     "metadata": {},
     "output_type": "execute_result"
    }
   ],
   "source": [
    "len(newL)"
   ]
  },
  {
   "cell_type": "code",
   "execution_count": 261,
   "id": "e7c37ed4",
   "metadata": {},
   "outputs": [],
   "source": [
    "newL.sort()"
   ]
  },
  {
   "cell_type": "code",
   "execution_count": 262,
   "id": "0a572771",
   "metadata": {},
   "outputs": [
    {
     "data": {
      "text/html": [
       "<div>\n",
       "<style scoped>\n",
       "    .dataframe tbody tr th:only-of-type {\n",
       "        vertical-align: middle;\n",
       "    }\n",
       "\n",
       "    .dataframe tbody tr th {\n",
       "        vertical-align: top;\n",
       "    }\n",
       "\n",
       "    .dataframe thead th {\n",
       "        text-align: right;\n",
       "    }\n",
       "</style>\n",
       "<table border=\"1\" class=\"dataframe\">\n",
       "  <thead>\n",
       "    <tr style=\"text-align: right;\">\n",
       "      <th></th>\n",
       "      <th>题目内容</th>\n",
       "      <th>答案选项</th>\n",
       "      <th>正确选项</th>\n",
       "    </tr>\n",
       "  </thead>\n",
       "  <tbody>\n",
       "    <tr>\n",
       "      <th>50</th>\n",
       "      <td>代收代付手续费应以哪种方式收取()。</td>\n",
       "      <td>A.现金|B.转帐|C.现金或者转帐|D.不限制</td>\n",
       "      <td>B</td>\n",
       "    </tr>\n",
       "    <tr>\n",
       "      <th>58</th>\n",
       "      <td>()是衡量一个基金经营好坏的主要指标，也是基金单位交易价格的计算依据。</td>\n",
       "      <td>A.基金规模|B.基金收益率|C.基金资产净值|D.基金赎回率</td>\n",
       "      <td>C</td>\n",
       "    </tr>\n",
       "    <tr>\n",
       "      <th>110</th>\n",
       "      <td>银行间债券市场上的交易产品不包括()。</td>\n",
       "      <td>A.国债|B.金融债券|C.国债回购|D.商业票据</td>\n",
       "      <td>D</td>\n",
       "    </tr>\n",
       "    <tr>\n",
       "      <th>113</th>\n",
       "      <td>债券收益与市场利率的关系是()。</td>\n",
       "      <td>A.同方向|B.无关|C.反方向|D.无确定关系</td>\n",
       "      <td>A</td>\n",
       "    </tr>\n",
       "    <tr>\n",
       "      <th>161</th>\n",
       "      <td>以下我行开办的币种中不是可自由兑换货币不可办理境外汇入汇款的是()。</td>\n",
       "      <td>A.澳门元|B.韩元|C.泰铢|D.新西兰元</td>\n",
       "      <td>B</td>\n",
       "    </tr>\n",
       "    <tr>\n",
       "      <th>...</th>\n",
       "      <td>...</td>\n",
       "      <td>...</td>\n",
       "      <td>...</td>\n",
       "    </tr>\n",
       "    <tr>\n",
       "      <th>5350</th>\n",
       "      <td>银行业从业人员在业务活动中，可以向客户暗示诱导客户规避金融、外汇监管规定。（  ）</td>\n",
       "      <td>T、正确|F、错误</td>\n",
       "      <td>F</td>\n",
       "    </tr>\n",
       "    <tr>\n",
       "      <th>5353</th>\n",
       "      <td>《中国建设银行员工行为积分管理办法（试行）（2017年版）》，被积分人应在积分记录单上签字确...</td>\n",
       "      <td>T、正确|F、错误</td>\n",
       "      <td>T</td>\n",
       "    </tr>\n",
       "    <tr>\n",
       "      <th>5356</th>\n",
       "      <td>合规管理目标中“两个确保”是指确保法律法规及监管规定在建行得到遵循、确保行内规章制度得到有效...</td>\n",
       "      <td>T、正确|F、错误</td>\n",
       "      <td>T</td>\n",
       "    </tr>\n",
       "    <tr>\n",
       "      <th>5357</th>\n",
       "      <td>合规是指使商业银行的经营活动与法律、规则和准则相一致。（）</td>\n",
       "      <td>T、正确|F、错误</td>\n",
       "      <td>T</td>\n",
       "    </tr>\n",
       "    <tr>\n",
       "      <th>5361</th>\n",
       "      <td>金融创新是提升银行业竞争力的重要推动力，所以有利可图的“伪创新”也是可以接受的。（ ）</td>\n",
       "      <td>T、正确|F、错误</td>\n",
       "      <td>F</td>\n",
       "    </tr>\n",
       "  </tbody>\n",
       "</table>\n",
       "<p>768 rows × 3 columns</p>\n",
       "</div>"
      ],
      "text/plain": [
       "                                                   题目内容  \\\n",
       "50                                   代收代付手续费应以哪种方式收取()。   \n",
       "58                  ()是衡量一个基金经营好坏的主要指标，也是基金单位交易价格的计算依据。   \n",
       "110                                 银行间债券市场上的交易产品不包括()。   \n",
       "113                                    债券收益与市场利率的关系是()。   \n",
       "161                  以下我行开办的币种中不是可自由兑换货币不可办理境外汇入汇款的是()。   \n",
       "...                                                 ...   \n",
       "5350          银行业从业人员在业务活动中，可以向客户暗示诱导客户规避金融、外汇监管规定。（  ）   \n",
       "5353  《中国建设银行员工行为积分管理办法（试行）（2017年版）》，被积分人应在积分记录单上签字确...   \n",
       "5356  合规管理目标中“两个确保”是指确保法律法规及监管规定在建行得到遵循、确保行内规章制度得到有效...   \n",
       "5357                      合规是指使商业银行的经营活动与法律、规则和准则相一致。（）   \n",
       "5361        金融创新是提升银行业竞争力的重要推动力，所以有利可图的“伪创新”也是可以接受的。（ ）   \n",
       "\n",
       "                                 答案选项 正确选项  \n",
       "50           A.现金|B.转帐|C.现金或者转帐|D.不限制    B  \n",
       "58    A.基金规模|B.基金收益率|C.基金资产净值|D.基金赎回率    C  \n",
       "110         A.国债|B.金融债券|C.国债回购|D.商业票据    D  \n",
       "113          A.同方向|B.无关|C.反方向|D.无确定关系    A  \n",
       "161            A.澳门元|B.韩元|C.泰铢|D.新西兰元    B  \n",
       "...                               ...  ...  \n",
       "5350                        T、正确|F、错误    F  \n",
       "5353                        T、正确|F、错误    T  \n",
       "5356                        T、正确|F、错误    T  \n",
       "5357                        T、正确|F、错误    T  \n",
       "5361                        T、正确|F、错误    F  \n",
       "\n",
       "[768 rows x 3 columns]"
      ]
     },
     "execution_count": 262,
     "metadata": {},
     "output_type": "execute_result"
    }
   ],
   "source": [
    "anwser.loc[newL,'题目内容':'正确选项']"
   ]
  },
  {
   "cell_type": "code",
   "execution_count": null,
   "id": "bb5d28f8",
   "metadata": {},
   "outputs": [],
   "source": [
    "anwser.to_csv(final.csv,',')"
   ]
  },
  {
   "cell_type": "code",
   "execution_count": 254,
   "id": "210aae64",
   "metadata": {
    "scrolled": true
   },
   "outputs": [],
   "source": [
    "for idx, content in enumerate(allcontent):\n",
    "    allcontent[idx] = content[content.find('：')+1:]"
   ]
  },
  {
   "cell_type": "code",
   "execution_count": 255,
   "id": "1b655053",
   "metadata": {},
   "outputs": [],
   "source": [
    "for idx, content in enumerate(allcontent):\n",
    "    allcontent[idx] = content[:content.find('（1分）')]"
   ]
  },
  {
   "cell_type": "code",
   "execution_count": 256,
   "id": "50bd6eb4",
   "metadata": {},
   "outputs": [],
   "source": [
    "for idx, content in enumerate(allcontent):\n",
    "    allcontent[idx] = content[:content.find('（1.5分')]"
   ]
  },
  {
   "cell_type": "code",
   "execution_count": 204,
   "id": "8b2973b8",
   "metadata": {},
   "outputs": [],
   "source": [
    "for idx, content in enumerate(cont9):\n",
    "    content = content.replace('（','')\n",
    "    content = content.replace('(','')\n",
    "    content = content.replace(')','')\n",
    "    content = content.replace('）','')\n",
    "    cont9[idx] = content"
   ]
  },
  {
   "cell_type": "code",
   "execution_count": 208,
   "id": "788be106",
   "metadata": {},
   "outputs": [],
   "source": [
    "for idx, content in enumerate(cont9):\n",
    "    content = content.replace('0','')\n",
    "    content = content.replace('，','')\n",
    "    content = content.replace('。','')\n",
    "    cont9[idx] = content"
   ]
  },
  {
   "cell_type": "code",
   "execution_count": 218,
   "id": "a238b24e",
   "metadata": {},
   "outputs": [
    {
     "data": {
      "text/plain": [
       "['银行汇票的提示付款期限自出票日起（）',\n",
       " '用于委托收款、托收承付的发出和结算业务的查询、查复的会计印章是：（',\n",
       " '根据票据法规定，下列选项中，属于伪造票据的是：（',\n",
       " '客户登陆个人网银时，输错（）次登陆密码后网银系统自动锁',\n",
       " '在手机上网地址栏中输入网址（即可进入建行手机WAP网',\n",
       " '建设银行目前现有的电子银行产品中除（）外其它各项均已覆盖全',\n",
       " '个人住房组合贷款的利率（）执',\n",
       " '对于“家装贷”借款人确因实际情况无法提前提供装修用途证明材料的，可在贷款发放后的（）个月之内补',\n",
       " '有客户投诉时，大堂经理要记录？（），缓解客户矛',\n",
       " '产品销售经理离柜时，应',\n",
       " '网点客户经理应（）在客户当面更新联系计划、补录销售台',\n",
       " '大额交易数据通过反洗钱系统自动提取，业务操作岗在数据生成后（）个工作日内补录客户基本信息和明细信',\n",
       " '各级机构对以下异常交易，如没有合理理由排除疑点，或者有合理理由怀疑该交易或客户涉及违法犯罪活动，应作为可疑交易',\n",
       " '不属于客户管理流程的是（',\n",
       " '当客户在建行的月日均AUM大于（）万，客户进入OCRM系',\n",
       " '个人有效客户统计中，每年0会计期间和滚动期间的数据达到一',\n",
       " '客户购买储蓄国债（电子式）或记账式国债时，需首先在证券业务系统中',\n",
       " '“乾元”系列固定期限理财产品一般起点金额',\n",
       " '目前我分行发行的VISA乐当家理财白金卡BIN为',\n",
       " '欧元特色储蓄存款起存金额为',\n",
       " '各营业网点申请的电话宝延伸终端服务设备与PSAM卡应由（）保管，并登记《印章及重要物品保管登记',\n",
       " '（）设置在省分行及各二级分行，负责电话宝支付终端及PSAM卡设备管理的人员。主要权限包括：管理系统中各类信息的查询、',\n",
       " '网点当班现金柜员与设备管理员不相容，不得参与现金清点，原则上不允许参与清机加钞。如有特殊网点（对公网点）因人员不足员不参与清机的，则由二级分行汇总上述网点情况以书面形式上报省分行，省分行同意后方可执行，现金柜员只能担任（',\n",
       " '客户经理在OCRM系统中建立联系计划一共有几种方式（',\n",
       " '境外个人在境内取得的经常项目合法人民币收入购汇汇出时，单笔等值0万美元以上的，客户均应向所在地主管国税机关进行税务备',\n",
       " '目前，我分行可以办理个人外汇买卖的币种已达到（）',\n",
       " '“金管家”业务中将个人客户本人及其家庭成员在建行开列的活期账户进行关联，建立包含一个主账户和多个关联账户的综合账户结',\n",
       " '下列哪项不属于日常管家支持的协议',\n",
       " '建设银行私人银行客户申请我行健康关爱服务中的专家预约服务，该客户需被扣除多少非金融服务绩',\n",
       " '非金融服务绩点有效期是（）',\n",
       " '下列是WPPS系统用户的是（',\n",
       " '公司类商户结算账号要求：（',\n",
       " '下面哪项不属于内控管理不到位（',\n",
       " '（）主要是业务流程各环节涉及的岗位人员应承担的责',\n",
       " '金库库区严禁存放（）。',\n",
       " '下列（）票据不能办埋贴。',\n",
       " '银行结算原则包括（）。',\n",
       " '签发支票必须记载下列事项（）。',\n",
       " '建行个人网银盾目前有（）等品牌。',\n",
       " '无经营实体但实际从事生产经营的中高端客户限于以下三类（）。',\n",
       " 'PLPM系统从贷前、贷中、贷后、系统管理等方面进行划分，可以归纳为（）三个模',\n",
       " '个人客户经理每日标准流程包括（）',\n",
       " '营运主管每月检查内容包括但不限于（）。',\n",
       " '个人柜面业务整改流程包括以下内容（）：',\n",
       " '客户经理对购买基金的客户，在那些时间点需要主动联系客户（）。',\n",
       " '如果一个客户的日均金融总量为50万，以下哪种情况可以成为有效客户',\n",
       " '外币整存整取按存期包括（）。',\n",
       " '个人账户贵金属业务种类包含（）品种',\n",
       " '客户经理登录OCRM系统，每日需要完成哪些流程？',\n",
       " '办理超限额个人外币现钞存款业务时客户可提供的现钞来源证明有（）。',\n",
       " '按照国家外汇管理局的最新规定，个人凭（）办理贸易外汇资金结汇。',\n",
       " '私人银行专享非金融服务包括以下（）服务',\n",
       " '以下关于信用卡积分的累计方式说法正确的有（）',\n",
       " '侵犯商业秘密罪指以（）或者其他不正当手段获取权利人的商业秘密，或者非法披露、使用或者允许他人使用其所掌握的或获取的商业秘密，给商业秘密的权利人造成重大损失的行为。',\n",
       " '“两权分离”模式是我行存房业务当前主推模式，其中“两权分离”指的是租赁住房的所有权和租赁权相分',\n",
       " '“CCB建融家园”挂牌后，需要加强日常管理，定期对挂牌项目和挂牌合作企业的运营情况进行走访、信息搜集、风险评估，避免对建设银行造成相关声誉风',\n",
       " '金库设置主任、常务副主任、副主任、管库岗，根据需要设置调拨岗、配款岗、整点主管岗、整点综合岗、整点操作岗、解款岗等。',\n",
       " '日终换人复点尾箱后至押运人员到达前，可在网点留下一人看管尾箱要求尾箱必须在监控范围之内。',\n",
       " '机构现金、重要单证调拨成功后发现有误允许冲正。',\n",
       " '超过提示付款期限的银行汇票，持票人提示付款的，付款人不予受理。',\n",
       " '在银行开立存款账户的个人为收款人的，委托收款凭证必须记载被委托银行名称。欠缺记载的银行不予受理。',\n",
       " '待睡眠单位款账户转睡眠户时，应抽取睡眠户账户印鉴卡，由双人专夹保管，待客户前来申领睡眠户款项时，需经双人核对印鉴后处',\n",
       " '根据长期不动户管理办法，转入“其他应付款”核算不动户仍按期结计利息。',\n",
       " '对于网上银行各类资金交易设定了交易限额是建设银行保障客户资金安全的一项重要措',\n",
       " '新增非个人客户信息时，需要在系统中检查是否已经建立相同的非个人客户',\n",
       " 'PLPM系统工作流的业务流程可根据自身的特点通过机构、用户岗位、角色的设定来完',\n",
       " '快贷是自主支用的产品，贷款用途可以用于购房或者购买',\n",
       " '大堂经理在分流客户，引导VIP客户至网点客户经理室时应说：请您跟我到VIP等候',\n",
       " '当通过成功的销售与客户初步建立了业务联系后，网点客户经理可以更容易地与客户交流，内容也从最初的产品介绍扩展到公司经营状况、相关的上下游企业、资产状况、个人生活方式、消费习惯、对公客户是否有对私产品的需求、个人客户是否有对公产品的需求等进一步深入的话题，这种基于诚信的交往过程蕴藏着很多交叉销售的机会，可提高客户对银行的忠诚度和依赖度，还有可能拓展新客',\n",
       " '反洗钱大额可疑报告工作中，对于既符合大额交易报告标准又符合可疑交易报告标准的交易，可只上报可疑交易报',\n",
       " '个人金融从业人员不包括分管个人业务的行',\n",
       " '中高端客户分为省分行级VIP客户和总行级VIP客',\n",
       " '对存折消磁，但能清晰辨认账号、存折号码、户名及开户机构名称等要素的，活期一本通存折必须通过1161存折维护下的功能--1“换新折”进行操',\n",
       " '柜员办理速汇通业务在打印个人汇款凭证时发生打印机故障等原因造成个人汇款凭证打印失败时，可启动“0088重新认证”输入交易日期、交易流水号提交主机后重新打印个人汇款凭',\n",
       " '电话支付业务是基于运营商网络，依托中国建设银行各业务系统，通过电话支付终端为个人家庭、个体工商户、企事业单位等用户提供金融服务和非金融值服务的一种新型业',\n",
       " '商户因经营不善，已破产或停业的，应及时解除协议并进行停用或注销处',\n",
       " '特殊VIP客户是暂未达到系统评定VIP客户评价标准但可以享受VIP客户待遇的重要人士，有效期为6个',\n",
       " '若某笔外汇汇出汇款状态是ACK，表示该汇款已经成功发送境外。',\n",
       " '中国建设银行没有针对私人银行客户养老资产规划的服',\n",
       " '建行私人银行只为客户提供金融服',\n",
       " '银行业从业人员在业务活动中，可以向客户暗示诱导客户规避金融、外汇监管规定。',\n",
       " '为亲友非法牟利罪指国有公司、企业、事业单位的工作人员，利用职务便利，将本单位的盈利业务交由自己的亲友进行经营，或者以明显高于市场的价格自己的亲友经营管理的单位采购商品或者以明显低于市场的价格向自己的亲友经营管理的单位销售商品，或者向自己的亲友经营管理的单位采购不合格商品的行',\n",
       " '违反规定进行账外经营活动的，给予开除处分。',\n",
       " '《中国建设银行员工行为积分管理办法（试行）（2017年版）》，被积分人应在积分记录单上签字确认。被积分人不签字的不影响积分效']"
      ]
     },
     "execution_count": 218,
     "metadata": {},
     "output_type": "execute_result"
    }
   ],
   "source": [
    "cont9"
   ]
  },
  {
   "cell_type": "code",
   "execution_count": 26,
   "id": "f8958cc1",
   "metadata": {},
   "outputs": [],
   "source": [
    "def readTxt(Path):\n",
    "    content = open(Path, encoding='utf-8').read()\n",
    "    return content"
   ]
  },
  {
   "cell_type": "code",
   "execution_count": 168,
   "id": "7abb18f2",
   "metadata": {},
   "outputs": [],
   "source": [
    "def readCsv(Path):\n",
    "    data = pd.read_excel(Path)\n",
    "    print(data.keys())\n",
    "    return data"
   ]
  },
  {
   "cell_type": "code",
   "execution_count": 112,
   "id": "318a3e87",
   "metadata": {},
   "outputs": [],
   "source": [
    "def useInfo(path):\n",
    "    cont = readTxt(path).split('\\n')\n",
    "    cont = [i for i in cont if i != '']\n",
    "    cont = [i for i in cont if 'A.' not in i]\n",
    "    cont = [i for i in cont if 'B.' not in i]\n",
    "    cont = [i for i in cont if 'C.' not in i]\n",
    "    cont = [i for i in cont if 'D.' not in i]\n",
    "    cont = [i for i in cont if 'E.' not in i]\n",
    "    cont = [i for i in cont if 'F.' not in i]\n",
    "    cont = [i for i in cont if 'G.' not in i]\n",
    "    cont = [i for i in cont if 'A．' not in i]\n",
    "    cont = [i for i in cont if 'B．' not in i]\n",
    "    cont = [i for i in cont if 'C．' not in i]\n",
    "    cont = [i for i in cont if 'D．' not in i]\n",
    "    cont = [i for i in cont if 'E．' not in i]\n",
    "    cont = [i for i in cont if 'F．' not in i]\n",
    "    cont = [i for i in cont if 'G．' not in i]\n",
    "    cont = [i for i in cont if 'T、正确F、错误' not in i]\n",
    "    return cont"
   ]
  },
  {
   "cell_type": "code",
   "execution_count": 228,
   "id": "1a83169f",
   "metadata": {},
   "outputs": [],
   "source": [
    "def pipei(indList, alltiku, fentiku):\n",
    "    for i in fentiku:\n",
    "        for index, row in alltiku.iterrows():\n",
    "            if get_equal_rate_1(i, row['题目内容']) > 0.8:\n",
    "                indList.append(index)\n",
    "    return indList"
   ]
  },
  {
   "cell_type": "code",
   "execution_count": 222,
   "id": "4267271b",
   "metadata": {},
   "outputs": [],
   "source": [
    "def get_equal_rate_1(str1, str2):\n",
    "    return difflib.SequenceMatcher(None, str1, str2).quick_ratio()"
   ]
  },
  {
   "cell_type": "code",
   "execution_count": null,
   "id": "68e915ad",
   "metadata": {},
   "outputs": [],
   "source": []
  }
 ],
 "metadata": {
  "kernelspec": {
   "display_name": "Python 3 (ipykernel)",
   "language": "python",
   "name": "python3"
  },
  "language_info": {
   "codemirror_mode": {
    "name": "ipython",
    "version": 3
   },
   "file_extension": ".py",
   "mimetype": "text/x-python",
   "name": "python",
   "nbconvert_exporter": "python",
   "pygments_lexer": "ipython3",
   "version": "3.7.10"
  }
 },
 "nbformat": 4,
 "nbformat_minor": 5
}
